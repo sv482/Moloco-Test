{
 "cells": [
  {
   "cell_type": "code",
   "execution_count": 7,
   "metadata": {},
   "outputs": [],
   "source": [
    "#Importing required packages \n",
    "import pandas as pd\n",
    "import numpy as np\n",
    "import datetime as dt\n",
    "import os as dir \n",
    "dir.getcwd()\n",
    "dir.chdir('C:/Users/sushv/Desktop')"
   ]
  },
  {
   "cell_type": "code",
   "execution_count": 12,
   "metadata": {},
   "outputs": [],
   "source": [
    "#Getting the data into Python Platform \n",
    "raw_data = pd.read_csv('Adops & Data Scientist Sample Data_Analytics.csv')"
   ]
  },
  {
   "cell_type": "code",
   "execution_count": 13,
   "metadata": {},
   "outputs": [
    {
     "data": {
      "text/html": [
       "<div>\n",
       "<style scoped>\n",
       "    .dataframe tbody tr th:only-of-type {\n",
       "        vertical-align: middle;\n",
       "    }\n",
       "\n",
       "    .dataframe tbody tr th {\n",
       "        vertical-align: top;\n",
       "    }\n",
       "\n",
       "    .dataframe thead th {\n",
       "        text-align: right;\n",
       "    }\n",
       "</style>\n",
       "<table border=\"1\" class=\"dataframe\">\n",
       "  <thead>\n",
       "    <tr style=\"text-align: right;\">\n",
       "      <th></th>\n",
       "      <th>user_id</th>\n",
       "    </tr>\n",
       "    <tr>\n",
       "      <th>site_id</th>\n",
       "      <th></th>\n",
       "    </tr>\n",
       "  </thead>\n",
       "  <tbody>\n",
       "    <tr>\n",
       "      <th>5NPAU</th>\n",
       "      <td>544</td>\n",
       "    </tr>\n",
       "  </tbody>\n",
       "</table>\n",
       "</div>"
      ],
      "text/plain": [
       "         user_id\n",
       "site_id         \n",
       "5NPAU        544"
      ]
     },
     "execution_count": 13,
     "metadata": {},
     "output_type": "execute_result"
    }
   ],
   "source": [
    "#Question 1\n",
    "\n",
    "#First get the data for BDV country_id\n",
    "raw_data_bdv = raw_data[df.country_id == 'BDV'] \n",
    "\n",
    "#Grouping by Site_id, obtain the count of users \n",
    "raw_data_bdv_group = raw_data_bdv.groupby('site_id')['user_id'].nunique().to_frame() \n",
    "raw_data_bdv_group.sort_values('user_id',ascending = False).head(1)\n"
   ]
  },
  {
   "cell_type": "code",
   "execution_count": 14,
   "metadata": {},
   "outputs": [
    {
     "data": {
      "text/html": [
       "<div>\n",
       "<style scoped>\n",
       "    .dataframe tbody tr th:only-of-type {\n",
       "        vertical-align: middle;\n",
       "    }\n",
       "\n",
       "    .dataframe tbody tr th {\n",
       "        vertical-align: top;\n",
       "    }\n",
       "\n",
       "    .dataframe thead th {\n",
       "        text-align: right;\n",
       "    }\n",
       "</style>\n",
       "<table border=\"1\" class=\"dataframe\">\n",
       "  <thead>\n",
       "    <tr style=\"text-align: right;\">\n",
       "      <th></th>\n",
       "      <th>user_id</th>\n",
       "      <th>site_id</th>\n",
       "      <th>ts</th>\n",
       "    </tr>\n",
       "  </thead>\n",
       "  <tbody>\n",
       "    <tr>\n",
       "      <th>3</th>\n",
       "      <td>LC06C3</td>\n",
       "      <td>N0OTG</td>\n",
       "      <td>25</td>\n",
       "    </tr>\n",
       "    <tr>\n",
       "      <th>417</th>\n",
       "      <td>LC3A59</td>\n",
       "      <td>N0OTG</td>\n",
       "      <td>26</td>\n",
       "    </tr>\n",
       "    <tr>\n",
       "      <th>485</th>\n",
       "      <td>LC3C7E</td>\n",
       "      <td>3POLC</td>\n",
       "      <td>15</td>\n",
       "    </tr>\n",
       "    <tr>\n",
       "      <th>493</th>\n",
       "      <td>LC3C9D</td>\n",
       "      <td>N0OTG</td>\n",
       "      <td>17</td>\n",
       "    </tr>\n",
       "  </tbody>\n",
       "</table>\n",
       "</div>"
      ],
      "text/plain": [
       "    user_id site_id  ts\n",
       "3    LC06C3   N0OTG  25\n",
       "417  LC3A59   N0OTG  26\n",
       "485  LC3C7E   3POLC  15\n",
       "493  LC3C9D   N0OTG  17"
      ]
     },
     "execution_count": 14,
     "metadata": {},
     "output_type": "execute_result"
    }
   ],
   "source": [
    "#Question 2 \n",
    "\n",
    "#Using the datetime package for converting it into date time values\n",
    "raw_data.ts = pd.to_datetime(raw_data.ts) \n",
    "starting = dt.datetime(2019,2,3,0,0,0) \n",
    "ending = dt.datetime(2019,2,4,23,59,59) \n",
    "\n",
    "#Using the giving time period to filter the data \n",
    "raw_data_time = df.loc[(raw_data.ts>starting)&(raw_data.ts < ending)] \n",
    "\n",
    "#Grouping by user and site id and getting the counts \n",
    "raw_data_count = raw_data_time.groupby(['user_id','site_id'])['ts'].count().to_frame().reset_index()\n",
    "raw_data_count[raw_data_count.ts > 10] "
   ]
  },
  {
   "cell_type": "code",
   "execution_count": 20,
   "metadata": {},
   "outputs": [
    {
     "data": {
      "text/html": [
       "<div>\n",
       "<style scoped>\n",
       "    .dataframe tbody tr th:only-of-type {\n",
       "        vertical-align: middle;\n",
       "    }\n",
       "\n",
       "    .dataframe tbody tr th {\n",
       "        vertical-align: top;\n",
       "    }\n",
       "\n",
       "    .dataframe thead th {\n",
       "        text-align: right;\n",
       "    }\n",
       "</style>\n",
       "<table border=\"1\" class=\"dataframe\">\n",
       "  <thead>\n",
       "    <tr style=\"text-align: right;\">\n",
       "      <th></th>\n",
       "      <th>ts</th>\n",
       "    </tr>\n",
       "    <tr>\n",
       "      <th>site_id</th>\n",
       "      <th></th>\n",
       "    </tr>\n",
       "  </thead>\n",
       "  <tbody>\n",
       "    <tr>\n",
       "      <th>5NPAU</th>\n",
       "      <td>992</td>\n",
       "    </tr>\n",
       "    <tr>\n",
       "      <th>N0OTG</th>\n",
       "      <td>561</td>\n",
       "    </tr>\n",
       "    <tr>\n",
       "      <th>QGO3G</th>\n",
       "      <td>289</td>\n",
       "    </tr>\n",
       "    <tr>\n",
       "      <th>GVOFK</th>\n",
       "      <td>42</td>\n",
       "    </tr>\n",
       "    <tr>\n",
       "      <th>3POLC</th>\n",
       "      <td>28</td>\n",
       "    </tr>\n",
       "    <tr>\n",
       "      <th>RT9Z6</th>\n",
       "      <td>2</td>\n",
       "    </tr>\n",
       "    <tr>\n",
       "      <th>EUZ/Q</th>\n",
       "      <td>1</td>\n",
       "    </tr>\n",
       "    <tr>\n",
       "      <th>JSUUP</th>\n",
       "      <td>1</td>\n",
       "    </tr>\n",
       "  </tbody>\n",
       "</table>\n",
       "</div>"
      ],
      "text/plain": [
       "          ts\n",
       "site_id     \n",
       "5NPAU    992\n",
       "N0OTG    561\n",
       "QGO3G    289\n",
       "GVOFK     42\n",
       "3POLC     28\n",
       "RT9Z6      2\n",
       "EUZ/Q      1\n",
       "JSUUP      1"
      ]
     },
     "execution_count": 20,
     "metadata": {},
     "output_type": "execute_result"
    }
   ],
   "source": [
    "#Question 3 \n",
    "\n",
    "# Finding the last visit for each user \n",
    "raw_data_last_visit = raw_data.groupby('user_id')['ts'].max().to_frame().reset_index()\n",
    "\n",
    "#Joining the table with the full raw data table to get the last visited site \n",
    "raw_data_last_site = raw_data_last_visit.merge(raw_data, on = ['ts','user_id'], how='left' )\n",
    "\n",
    "#Finally getting the counts in the descending order \n",
    "raw_data_last_site.groupby('site_id')['ts'].count().to_frame().sort_values('ts', ascending = False)"
   ]
  },
  {
   "cell_type": "code",
   "execution_count": 26,
   "metadata": {},
   "outputs": [
    {
     "data": {
      "text/plain": [
       "1670"
      ]
     },
     "execution_count": 26,
     "metadata": {},
     "output_type": "execute_result"
    }
   ],
   "source": [
    "#Question 4 \n",
    "\n",
    "#Finding the first visited site by the user \n",
    "raw_data_first_visit = raw_data.groupby('user_id')['ts'].min().to_frame().reset_index()\n",
    "\n",
    "# Joining with the raw data table to get other details \n",
    "raw_data_first_site = raw_data_first_visit.merge(raw_data, on = ['ts','user_id'], how='left' )\n",
    "\n",
    "# Merge the first and last visit tables \n",
    "raw_data_comb = raw_data_last_site.merge(raw_data_first_site, on ='user_id', how = 'left')\n",
    "\n",
    "# Count the number of users whose first and last sites are the same  \n",
    "len(raw_data_comb[raw_data_comb.site_id_x == raw_data_comb.site_id_y])"
   ]
  },
  {
   "cell_type": "code",
   "execution_count": null,
   "metadata": {},
   "outputs": [],
   "source": []
  }
 ],
 "metadata": {
  "kernelspec": {
   "display_name": "Python 3",
   "language": "python",
   "name": "python3"
  },
  "language_info": {
   "codemirror_mode": {
    "name": "ipython",
    "version": 3
   },
   "file_extension": ".py",
   "mimetype": "text/x-python",
   "name": "python",
   "nbconvert_exporter": "python",
   "pygments_lexer": "ipython3",
   "version": "3.7.3"
  }
 },
 "nbformat": 4,
 "nbformat_minor": 2
}
